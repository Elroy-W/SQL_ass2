{
 "cells": [
  {
   "cell_type": "code",
   "execution_count": 1,
   "outputs": [],
   "source": [
    "import os\n",
    "import openpyxl\n",
    "from shapely.geometry import Polygon\n",
    "import random\n",
    "import time\n",
    "os.environ['USE_PYGEOS'] = '0'"
   ],
   "metadata": {
    "collapsed": false,
    "ExecuteTime": {
     "start_time": "2023-04-27T12:14:59.213870Z",
     "end_time": "2023-04-27T12:14:59.480421Z"
    }
   }
  },
  {
   "cell_type": "markdown",
   "source": [
    "Setup"
   ],
   "metadata": {
    "collapsed": false
   }
  },
  {
   "cell_type": "code",
   "execution_count": 2,
   "outputs": [],
   "source": [
    "class MBR:\n",
    "    def __init__(self, x_min, y_min, x_max, y_max):\n",
    "        self.x_min = x_min\n",
    "        self.y_min = y_min\n",
    "        self.x_max = x_max\n",
    "        self.y_max = y_max\n",
    "    def __repr__(self):\n",
    "        return \"(\"+str( self.x_min)+\", \" + str(self.y_min) + \", \" + str(self.x_max) + \", \" + str(self.y_max)+\")\""
   ],
   "metadata": {
    "collapsed": false,
    "ExecuteTime": {
     "start_time": "2023-04-27T12:14:59.482421Z",
     "end_time": "2023-04-27T12:14:59.495419Z"
    }
   }
  },
  {
   "cell_type": "code",
   "execution_count": 3,
   "outputs": [],
   "source": [
    "def load_data(path):\n",
    "    polygons=[]\n",
    "    with open(path) as dataset_file:\n",
    "        rows = dataset_file.readlines()\n",
    "        for row in rows[1:]:\n",
    "            start_POS = row.find(\"POLYGON (\") + 10\n",
    "            end_POS = row.find(\"))\")\n",
    "            result_str = row[start_POS: end_POS]\n",
    "            poly = result_str.split(',')\n",
    "            polygons.append(poly)\n",
    "    return polygons\n",
    "\n",
    "def cal_mbr(poly):\n",
    "    local_min_x=float(\"inf\")\n",
    "    local_min_y=float(\"inf\")\n",
    "    local_max_x=float(\"-inf\")\n",
    "    local_max_y=float(\"-inf\")\n",
    "    for polygon_point in poly:\n",
    "            p_x, p_y = polygon_point.strip().split(\" \")\n",
    "            p_x = float(p_x)\n",
    "            p_y = float(p_y)\n",
    "            local_min_x = min(local_min_x, p_x)\n",
    "            local_min_y = min(local_min_y, p_y)\n",
    "            local_max_x = max(local_max_x, p_x)\n",
    "            local_max_y = max(local_max_y, p_y)\n",
    "    return MBR(local_min_x, local_min_y, local_max_x,local_max_y)\n",
    "\n",
    "def cal_mbr_for_all(polygon_list_t):\n",
    "    MBR_List_t=[]\n",
    "    point_min_x=float(\"inf\")\n",
    "    point_min_y=float(\"inf\")\n",
    "    point_max_x=float(\"-inf\")\n",
    "    point_max_y=float(\"-inf\")\n",
    "    for poly in polygon_list_t:\n",
    "        temp = cal_mbr(poly)\n",
    "        MBR_List_t.append(temp)\n",
    "        point_min_x = min(point_min_x, temp.x_min)\n",
    "        point_min_y = min(point_min_y, temp.y_min)\n",
    "        point_max_x = max(point_max_x, temp.x_max)\n",
    "        point_max_y = max(point_max_y, temp.y_max)\n",
    "    MBR_for_all_t=MBR(point_min_x, point_min_y, point_max_x,point_max_y)\n",
    "    return MBR_for_all_t, MBR_List_t\n",
    "\n",
    "def is_contain(mbr1, mbr2):\n",
    "    return True  if mbr1.x_min >= mbr2.x_min and mbr1.x_max <= mbr2.x_max and mbr1.y_min >= mbr2.y_min and mbr1.y_max <= mbr2.y_max else False\n"
   ],
   "metadata": {
    "collapsed": false,
    "ExecuteTime": {
     "start_time": "2023-04-27T12:14:59.500419Z",
     "end_time": "2023-04-27T12:14:59.512421Z"
    }
   }
  },
  {
   "cell_type": "markdown",
   "source": [
    "Load data and calculate mbr (in ass1)"
   ],
   "metadata": {
    "collapsed": false
   }
  },
  {
   "cell_type": "code",
   "execution_count": 4,
   "outputs": [
    {
     "name": "stdout",
     "output_type": "stream",
     "text": [
      "MBR of all Polygons is (113.9310037, 22.1973011, 114.3763554, 22.5069962)\n"
     ]
    }
   ],
   "source": [
    "src_path = './data/Buildings.csv'\n",
    "data = load_data(src_path)\n",
    "MBR_for_all, MBR_result=cal_mbr_for_all(data)\n",
    "print(\"MBR of all Polygons is \" +str(MBR_for_all))"
   ],
   "metadata": {
    "collapsed": false,
    "ExecuteTime": {
     "start_time": "2023-04-27T12:14:59.816973Z",
     "end_time": "2023-04-27T12:15:00.714886Z"
    }
   }
  },
  {
   "cell_type": "code",
   "execution_count": 5,
   "outputs": [],
   "source": [
    "polygon_list = []\n",
    "for mbr in MBR_result:\n",
    "    polygon_mbr = Polygon([(mbr.x_min, mbr.y_min), (mbr.x_min, mbr.y_max), (mbr.x_max, mbr.y_min), (mbr.x_max, mbr.y_max)])\n",
    "    polygon_list.append(polygon_mbr)"
   ],
   "metadata": {
    "collapsed": false,
    "ExecuteTime": {
     "start_time": "2023-04-27T12:15:00.715895Z",
     "end_time": "2023-04-27T12:15:01.183438Z"
    }
   }
  },
  {
   "cell_type": "markdown",
   "source": [
    "Setup R Tree"
   ],
   "metadata": {
    "collapsed": false
   }
  },
  {
   "cell_type": "code",
   "execution_count": 6,
   "outputs": [],
   "source": [
    "class RTreeNode:\n",
    "    def __init__(self, is_leaf=False, parent=None):\n",
    "        self.polygons = []\n",
    "        self.children = []\n",
    "        self.is_leaf = is_leaf\n",
    "        self.bounds = None\n",
    "        self.parent_node = parent\n",
    "\n",
    "    def insert(self, polygons, index, d, n):\n",
    "        if not self.is_leaf:\n",
    "            self.choose_leaf(polygons, index, d, n)\n",
    "        else:\n",
    "            if len(self.polygons) >= n:\n",
    "                self.overflow(d, n)\n",
    "                self.parent_node.insert(polygons, index, d, n)\n",
    "            else:\n",
    "                self.polygons.append((polygons, index))\n",
    "                self.bounds = self.cal_area()\n",
    "\n",
    "    def update_mbr(self):\n",
    "        if self.parent_node is not None:\n",
    "            self.parent_node.bounds = self.parent_node.cal_area()\n",
    "            self.parent_node.update_mbr()\n",
    "\n",
    "    def intersection(self, query):\n",
    "        return not (query.bounds[0] > self.bounds[2] or query.bounds[2]< self.bounds[0] or query.bounds[1] > self.bounds[3] or query.bounds[3] < self.bounds[1])\n",
    "\n",
    "    def overflow(self, d, n):\n",
    "        node_temp = self.splitNode(d, n)\n",
    "        self.bounds = self.cal_area()\n",
    "        node_temp.bounds = node_temp.cal_area()\n",
    "        if self.parent_node is not None:\n",
    "            if len(self.parent_node.children) >= d:\n",
    "                new_parent_node = self.parent_node.overflow(d, n)\n",
    "                node_temp.parent_node = self.parent_node\n",
    "                new_parent_node.children.append(node_temp)\n",
    "                new_parent_node.bounds = new_parent_node.cal_area()\n",
    "                return node_temp\n",
    "            else:\n",
    "                node_temp.parent_node = self.parent_node\n",
    "                self.parent_node.children.append(node_temp)\n",
    "                return node_temp\n",
    "        else:\n",
    "            parent_new_node = RTreeNode(is_leaf=False)\n",
    "            node_temp.parent_node = parent_new_node\n",
    "            self.parent_node = parent_new_node\n",
    "            parent_new_node.children.append(self)\n",
    "            parent_new_node.children.append(node_temp)\n",
    "            parent_new_node.bounds = parent_new_node.cal_area()\n",
    "            return node_temp\n",
    "\n",
    "    def splitNode(self, d, n):\n",
    "        def sort_by_bounds(item):\n",
    "            return item.bounds[0]\n",
    "        def sort_by_bounds_first_item(item):\n",
    "            return item[0].bounds[0]\n",
    "        if not self.is_leaf:\n",
    "            node_new = RTreeNode(is_leaf=False)\n",
    "            info = self.children + [(None, None)] * (d - len(self.children))\n",
    "            self.children = sorted(info, key = sort_by_bounds)[:d // 2]\n",
    "            node_new.children = sorted(info, key = sort_by_bounds)[d // 2:]\n",
    "            for ch in self.children:\n",
    "                ch.parent_node = self\n",
    "            for ch in node_new.children:\n",
    "                ch.parent_node = node_new\n",
    "            node_new.cal_area()\n",
    "            self.cal_area()\n",
    "            return node_new\n",
    "        else:\n",
    "            node_new = RTreeNode(is_leaf=True)\n",
    "            info= self.polygons + [(None, None)] * (n - len(self.polygons))\n",
    "            self.polygons = sorted(info, key = sort_by_bounds_first_item)[:n // 2]\n",
    "            node_new.polygons = sorted(info, key = sort_by_bounds_first_item)[n // 2:]\n",
    "            node_new.cal_area()\n",
    "            self.cal_area()\n",
    "            return node_new\n",
    "\n",
    "    def choose_leaf(self, polygons, index, d, n):\n",
    "        child = self.children[0]\n",
    "        min_increase = child.mbr_increase(polygons)\n",
    "        for c in self.children[1:]:\n",
    "            increase = c.mbr_increase(polygons)\n",
    "            if increase < min_increase:\n",
    "                child = c\n",
    "                min_increase = increase\n",
    "        child.insert(polygons, index, d, n)\n",
    "\n",
    "    def cal_area(self):\n",
    "        if self.is_leaf:\n",
    "            bounds_lst = [bbox[0].bounds for bbox in self.polygons]\n",
    "        else:\n",
    "            bounds_lst = [bbox.bounds for bbox in self.children]\n",
    "\n",
    "        xmin = bounds_lst[0][0]\n",
    "        ymin = bounds_lst[0][1]\n",
    "        xmax = bounds_lst[0][2]\n",
    "        ymax = bounds_lst[0][3]\n",
    "        for bounds in bounds_lst[1:]:\n",
    "            xmin = min(xmin, bounds[0])\n",
    "            ymin = min(ymin, bounds[1])\n",
    "            xmax = max(xmax, bounds[2])\n",
    "            ymax = max(ymax, bounds[3])\n",
    "        return xmin, ymin, xmax, ymax\n",
    "\n",
    "    def mbr_increase(self, polygons):\n",
    "        bounds = [self.bounds, polygons.bounds]\n",
    "        mbr_old=(self.bounds[2] - self.bounds[0]) * (self.bounds[3] - self.bounds[1])\n",
    "        xmin = bounds[0][0]\n",
    "        ymin = bounds[0][1]\n",
    "        xmax = bounds[0][2]\n",
    "        ymax = bounds[0][3]\n",
    "        for b in bounds[1:]:\n",
    "            xmin = min(xmin, b[0])\n",
    "            ymin = min(ymin, b[1])\n",
    "            xmax = max(xmax, b[2])\n",
    "            ymax = max(ymax, b[3])\n",
    "        return (xmax - xmin) * (ymax - ymin) - mbr_old\n",
    "\n",
    "    def cal_height(self):\n",
    "        height = -33\n",
    "        if self.is_leaf:\n",
    "            return 1\n",
    "        else:\n",
    "            for child in self.children:\n",
    "                height = max(child.cal_height(), height)\n",
    "            return height + 1\n",
    "\n",
    "    def cal_leaf(self):\n",
    "        if self.is_leaf:\n",
    "            return 1\n",
    "        else:\n",
    "            total = 0\n",
    "            for child in self.children:\n",
    "                total += child.cal_leaf()\n",
    "            return total\n",
    "\n",
    "    def cal_non_leaf(self):\n",
    "        if self.is_leaf:\n",
    "            return 0\n",
    "        else:\n",
    "            total = 0\n",
    "            for child in self.children:\n",
    "                total += child.cal_non_leaf()\n",
    "            return 1 + total\n"
   ],
   "metadata": {
    "collapsed": false,
    "ExecuteTime": {
     "start_time": "2023-04-27T12:15:01.340365Z",
     "end_time": "2023-04-27T12:15:01.364905Z"
    }
   }
  },
  {
   "cell_type": "code",
   "execution_count": 7,
   "outputs": [],
   "source": [
    "class RTreeIndex:\n",
    "    def __init__(self, d, n):\n",
    "        self.n = n\n",
    "        self.d = d\n",
    "        self.root = RTreeNode(is_leaf=True)\n",
    "    def query_repeat(self, node, query, result_t):\n",
    "        if not node.is_leaf:\n",
    "            for child in node.children:\n",
    "                if child.intersection(query):\n",
    "                    self.query_repeat(child, query, result_t)\n",
    "        else:\n",
    "            for poly, idx in node.polygons:\n",
    "                min_x, min_y, max_x, max_y = query.bounds\n",
    "                x_min_p, y_min_p, x_max_p, y_max_p = poly.bounds\n",
    "                if x_min_p >= min_x and y_min_p >= min_y and x_max_p <= max_x and y_max_p <= max_y:\n",
    "                    result_t.append(idx)\n",
    "\n",
    "    def query(self, query):\n",
    "        result = []\n",
    "        self.query_repeat(self.root, query, result)\n",
    "        return result\n",
    "    def cal_leaf(self):\n",
    "        return self.root.cal_leaf()\n",
    "    def cal_non_leaf(self):\n",
    "        return self.root.cal_non_leaf()\n",
    "    def cal_height(self):\n",
    "        return self.root.cal_height()\n",
    "    def insert(self, polygons, idx):\n",
    "        self.root.insert(polygons, idx, self.d, self.n)\n",
    "        while self.root.parent_node is not None:\n",
    "            self.root = self.root.parent_node"
   ],
   "metadata": {
    "collapsed": false,
    "ExecuteTime": {
     "start_time": "2023-04-27T12:15:01.840909Z",
     "end_time": "2023-04-27T12:15:01.847905Z"
    }
   }
  },
  {
   "cell_type": "markdown",
   "source": [
    "Task 1"
   ],
   "metadata": {
    "collapsed": false
   }
  },
  {
   "cell_type": "code",
   "execution_count": 8,
   "outputs": [
    {
     "name": "stdout",
     "output_type": "stream",
     "text": [
      "Half of Dataset D with n = 64 and d = 8\n",
      "Height of R-tree: 5\n",
      "Number of leaf Nodes: 1014\n",
      "Number of non_leaf nodes: 242\n"
     ]
    }
   ],
   "source": [
    "#Assignment 2 Task1\n",
    "#Insert first-half of dataset D into R-Tree with n = 64, d = 8\n",
    "tree_half_64 = RTreeIndex(8, 64)\n",
    "for i,polygon in enumerate(polygon_list[:len(polygon_list)//2-1]):\n",
    "    tree_half_64.insert(polygon, i)\n",
    "print(\"Half of Dataset D with n = 64 and d = 8\")\n",
    "print(\"Height of R-tree: {}\".format(tree_half_64.cal_height()))\n",
    "print(\"Number of leaf Nodes: {}\".format(tree_half_64.cal_leaf()))\n",
    "print(\"Number of non_leaf nodes: {}\".format(tree_half_64.cal_non_leaf()))"
   ],
   "metadata": {
    "collapsed": false,
    "ExecuteTime": {
     "start_time": "2023-04-27T12:15:03.881697Z",
     "end_time": "2023-04-27T12:16:08.707248Z"
    }
   }
  },
  {
   "cell_type": "code",
   "execution_count": 9,
   "outputs": [
    {
     "ename": "KeyboardInterrupt",
     "evalue": "",
     "output_type": "error",
     "traceback": [
      "\u001B[1;31m---------------------------------------------------------------------------\u001B[0m",
      "\u001B[1;31mKeyboardInterrupt\u001B[0m                         Traceback (most recent call last)",
      "Cell \u001B[1;32mIn[9], line 4\u001B[0m\n\u001B[0;32m      2\u001B[0m tree_64 \u001B[38;5;241m=\u001B[39m RTreeIndex(\u001B[38;5;241m8\u001B[39m, \u001B[38;5;241m64\u001B[39m)\n\u001B[0;32m      3\u001B[0m \u001B[38;5;28;01mfor\u001B[39;00m i,polygon \u001B[38;5;129;01min\u001B[39;00m \u001B[38;5;28menumerate\u001B[39m(polygon_list):\n\u001B[1;32m----> 4\u001B[0m     \u001B[43mtree_64\u001B[49m\u001B[38;5;241;43m.\u001B[39;49m\u001B[43minsert\u001B[49m\u001B[43m(\u001B[49m\u001B[43mpolygon\u001B[49m\u001B[43m,\u001B[49m\u001B[43m \u001B[49m\u001B[43mi\u001B[49m\u001B[43m)\u001B[49m\n\u001B[0;32m      5\u001B[0m \u001B[38;5;28mprint\u001B[39m(\u001B[38;5;124m\"\u001B[39m\u001B[38;5;124mDataset D with n = 64 and d = 8\u001B[39m\u001B[38;5;124m\"\u001B[39m)\n\u001B[0;32m      6\u001B[0m \u001B[38;5;28mprint\u001B[39m(\u001B[38;5;124m\"\u001B[39m\u001B[38;5;124mHeight of R-tree: \u001B[39m\u001B[38;5;132;01m{}\u001B[39;00m\u001B[38;5;124m\"\u001B[39m\u001B[38;5;241m.\u001B[39mformat(tree_64\u001B[38;5;241m.\u001B[39mcal_height()))\n",
      "Cell \u001B[1;32mIn[7], line 29\u001B[0m, in \u001B[0;36mRTreeIndex.insert\u001B[1;34m(self, polygons, idx)\u001B[0m\n\u001B[0;32m     28\u001B[0m \u001B[38;5;28;01mdef\u001B[39;00m \u001B[38;5;21minsert\u001B[39m(\u001B[38;5;28mself\u001B[39m, polygons, idx):\n\u001B[1;32m---> 29\u001B[0m     \u001B[38;5;28;43mself\u001B[39;49m\u001B[38;5;241;43m.\u001B[39;49m\u001B[43mroot\u001B[49m\u001B[38;5;241;43m.\u001B[39;49m\u001B[43minsert\u001B[49m\u001B[43m(\u001B[49m\u001B[43mpolygons\u001B[49m\u001B[43m,\u001B[49m\u001B[43m \u001B[49m\u001B[43midx\u001B[49m\u001B[43m,\u001B[49m\u001B[43m \u001B[49m\u001B[38;5;28;43mself\u001B[39;49m\u001B[38;5;241;43m.\u001B[39;49m\u001B[43md\u001B[49m\u001B[43m,\u001B[49m\u001B[43m \u001B[49m\u001B[38;5;28;43mself\u001B[39;49m\u001B[38;5;241;43m.\u001B[39;49m\u001B[43mn\u001B[49m\u001B[43m)\u001B[49m\n\u001B[0;32m     30\u001B[0m     \u001B[38;5;28;01mwhile\u001B[39;00m \u001B[38;5;28mself\u001B[39m\u001B[38;5;241m.\u001B[39mroot\u001B[38;5;241m.\u001B[39mparent_node \u001B[38;5;129;01mis\u001B[39;00m \u001B[38;5;129;01mnot\u001B[39;00m \u001B[38;5;28;01mNone\u001B[39;00m:\n\u001B[0;32m     31\u001B[0m         \u001B[38;5;28mself\u001B[39m\u001B[38;5;241m.\u001B[39mroot \u001B[38;5;241m=\u001B[39m \u001B[38;5;28mself\u001B[39m\u001B[38;5;241m.\u001B[39mroot\u001B[38;5;241m.\u001B[39mparent_node\n",
      "Cell \u001B[1;32mIn[6], line 11\u001B[0m, in \u001B[0;36mRTreeNode.insert\u001B[1;34m(self, polygons, index, d, n)\u001B[0m\n\u001B[0;32m      9\u001B[0m \u001B[38;5;28;01mdef\u001B[39;00m \u001B[38;5;21minsert\u001B[39m(\u001B[38;5;28mself\u001B[39m, polygons, index, d, n):\n\u001B[0;32m     10\u001B[0m     \u001B[38;5;28;01mif\u001B[39;00m \u001B[38;5;129;01mnot\u001B[39;00m \u001B[38;5;28mself\u001B[39m\u001B[38;5;241m.\u001B[39mis_leaf:\n\u001B[1;32m---> 11\u001B[0m         \u001B[38;5;28;43mself\u001B[39;49m\u001B[38;5;241;43m.\u001B[39;49m\u001B[43mchoose_leaf\u001B[49m\u001B[43m(\u001B[49m\u001B[43mpolygons\u001B[49m\u001B[43m,\u001B[49m\u001B[43m \u001B[49m\u001B[43mindex\u001B[49m\u001B[43m,\u001B[49m\u001B[43m \u001B[49m\u001B[43md\u001B[49m\u001B[43m,\u001B[49m\u001B[43m \u001B[49m\u001B[43mn\u001B[49m\u001B[43m)\u001B[49m\n\u001B[0;32m     12\u001B[0m     \u001B[38;5;28;01melse\u001B[39;00m:\n\u001B[0;32m     13\u001B[0m         \u001B[38;5;28;01mif\u001B[39;00m \u001B[38;5;28mlen\u001B[39m(\u001B[38;5;28mself\u001B[39m\u001B[38;5;241m.\u001B[39mpolygons) \u001B[38;5;241m>\u001B[39m\u001B[38;5;241m=\u001B[39m n:\n",
      "Cell \u001B[1;32mIn[6], line 86\u001B[0m, in \u001B[0;36mRTreeNode.choose_leaf\u001B[1;34m(self, polygons, index, d, n)\u001B[0m\n\u001B[0;32m     84\u001B[0m         child \u001B[38;5;241m=\u001B[39m c\n\u001B[0;32m     85\u001B[0m         min_increase \u001B[38;5;241m=\u001B[39m increase\n\u001B[1;32m---> 86\u001B[0m \u001B[43mchild\u001B[49m\u001B[38;5;241;43m.\u001B[39;49m\u001B[43minsert\u001B[49m\u001B[43m(\u001B[49m\u001B[43mpolygons\u001B[49m\u001B[43m,\u001B[49m\u001B[43m \u001B[49m\u001B[43mindex\u001B[49m\u001B[43m,\u001B[49m\u001B[43m \u001B[49m\u001B[43md\u001B[49m\u001B[43m,\u001B[49m\u001B[43m \u001B[49m\u001B[43mn\u001B[49m\u001B[43m)\u001B[49m\n",
      "Cell \u001B[1;32mIn[6], line 11\u001B[0m, in \u001B[0;36mRTreeNode.insert\u001B[1;34m(self, polygons, index, d, n)\u001B[0m\n\u001B[0;32m      9\u001B[0m \u001B[38;5;28;01mdef\u001B[39;00m \u001B[38;5;21minsert\u001B[39m(\u001B[38;5;28mself\u001B[39m, polygons, index, d, n):\n\u001B[0;32m     10\u001B[0m     \u001B[38;5;28;01mif\u001B[39;00m \u001B[38;5;129;01mnot\u001B[39;00m \u001B[38;5;28mself\u001B[39m\u001B[38;5;241m.\u001B[39mis_leaf:\n\u001B[1;32m---> 11\u001B[0m         \u001B[38;5;28;43mself\u001B[39;49m\u001B[38;5;241;43m.\u001B[39;49m\u001B[43mchoose_leaf\u001B[49m\u001B[43m(\u001B[49m\u001B[43mpolygons\u001B[49m\u001B[43m,\u001B[49m\u001B[43m \u001B[49m\u001B[43mindex\u001B[49m\u001B[43m,\u001B[49m\u001B[43m \u001B[49m\u001B[43md\u001B[49m\u001B[43m,\u001B[49m\u001B[43m \u001B[49m\u001B[43mn\u001B[49m\u001B[43m)\u001B[49m\n\u001B[0;32m     12\u001B[0m     \u001B[38;5;28;01melse\u001B[39;00m:\n\u001B[0;32m     13\u001B[0m         \u001B[38;5;28;01mif\u001B[39;00m \u001B[38;5;28mlen\u001B[39m(\u001B[38;5;28mself\u001B[39m\u001B[38;5;241m.\u001B[39mpolygons) \u001B[38;5;241m>\u001B[39m\u001B[38;5;241m=\u001B[39m n:\n",
      "Cell \u001B[1;32mIn[6], line 86\u001B[0m, in \u001B[0;36mRTreeNode.choose_leaf\u001B[1;34m(self, polygons, index, d, n)\u001B[0m\n\u001B[0;32m     84\u001B[0m         child \u001B[38;5;241m=\u001B[39m c\n\u001B[0;32m     85\u001B[0m         min_increase \u001B[38;5;241m=\u001B[39m increase\n\u001B[1;32m---> 86\u001B[0m \u001B[43mchild\u001B[49m\u001B[38;5;241;43m.\u001B[39;49m\u001B[43minsert\u001B[49m\u001B[43m(\u001B[49m\u001B[43mpolygons\u001B[49m\u001B[43m,\u001B[49m\u001B[43m \u001B[49m\u001B[43mindex\u001B[49m\u001B[43m,\u001B[49m\u001B[43m \u001B[49m\u001B[43md\u001B[49m\u001B[43m,\u001B[49m\u001B[43m \u001B[49m\u001B[43mn\u001B[49m\u001B[43m)\u001B[49m\n",
      "    \u001B[1;31m[... skipping similar frames: RTreeNode.choose_leaf at line 86 (1 times), RTreeNode.insert at line 11 (1 times)]\u001B[0m\n",
      "Cell \u001B[1;32mIn[6], line 11\u001B[0m, in \u001B[0;36mRTreeNode.insert\u001B[1;34m(self, polygons, index, d, n)\u001B[0m\n\u001B[0;32m      9\u001B[0m \u001B[38;5;28;01mdef\u001B[39;00m \u001B[38;5;21minsert\u001B[39m(\u001B[38;5;28mself\u001B[39m, polygons, index, d, n):\n\u001B[0;32m     10\u001B[0m     \u001B[38;5;28;01mif\u001B[39;00m \u001B[38;5;129;01mnot\u001B[39;00m \u001B[38;5;28mself\u001B[39m\u001B[38;5;241m.\u001B[39mis_leaf:\n\u001B[1;32m---> 11\u001B[0m         \u001B[38;5;28;43mself\u001B[39;49m\u001B[38;5;241;43m.\u001B[39;49m\u001B[43mchoose_leaf\u001B[49m\u001B[43m(\u001B[49m\u001B[43mpolygons\u001B[49m\u001B[43m,\u001B[49m\u001B[43m \u001B[49m\u001B[43mindex\u001B[49m\u001B[43m,\u001B[49m\u001B[43m \u001B[49m\u001B[43md\u001B[49m\u001B[43m,\u001B[49m\u001B[43m \u001B[49m\u001B[43mn\u001B[49m\u001B[43m)\u001B[49m\n\u001B[0;32m     12\u001B[0m     \u001B[38;5;28;01melse\u001B[39;00m:\n\u001B[0;32m     13\u001B[0m         \u001B[38;5;28;01mif\u001B[39;00m \u001B[38;5;28mlen\u001B[39m(\u001B[38;5;28mself\u001B[39m\u001B[38;5;241m.\u001B[39mpolygons) \u001B[38;5;241m>\u001B[39m\u001B[38;5;241m=\u001B[39m n:\n",
      "Cell \u001B[1;32mIn[6], line 86\u001B[0m, in \u001B[0;36mRTreeNode.choose_leaf\u001B[1;34m(self, polygons, index, d, n)\u001B[0m\n\u001B[0;32m     84\u001B[0m         child \u001B[38;5;241m=\u001B[39m c\n\u001B[0;32m     85\u001B[0m         min_increase \u001B[38;5;241m=\u001B[39m increase\n\u001B[1;32m---> 86\u001B[0m \u001B[43mchild\u001B[49m\u001B[38;5;241;43m.\u001B[39;49m\u001B[43minsert\u001B[49m\u001B[43m(\u001B[49m\u001B[43mpolygons\u001B[49m\u001B[43m,\u001B[49m\u001B[43m \u001B[49m\u001B[43mindex\u001B[49m\u001B[43m,\u001B[49m\u001B[43m \u001B[49m\u001B[43md\u001B[49m\u001B[43m,\u001B[49m\u001B[43m \u001B[49m\u001B[43mn\u001B[49m\u001B[43m)\u001B[49m\n",
      "Cell \u001B[1;32mIn[6], line 18\u001B[0m, in \u001B[0;36mRTreeNode.insert\u001B[1;34m(self, polygons, index, d, n)\u001B[0m\n\u001B[0;32m     16\u001B[0m \u001B[38;5;28;01melse\u001B[39;00m:\n\u001B[0;32m     17\u001B[0m     \u001B[38;5;28mself\u001B[39m\u001B[38;5;241m.\u001B[39mpolygons\u001B[38;5;241m.\u001B[39mappend((polygons, index))\n\u001B[1;32m---> 18\u001B[0m     \u001B[38;5;28mself\u001B[39m\u001B[38;5;241m.\u001B[39mbounds \u001B[38;5;241m=\u001B[39m \u001B[38;5;28;43mself\u001B[39;49m\u001B[38;5;241;43m.\u001B[39;49m\u001B[43mcal_area\u001B[49m\u001B[43m(\u001B[49m\u001B[43m)\u001B[49m\n",
      "Cell \u001B[1;32mIn[6], line 90\u001B[0m, in \u001B[0;36mRTreeNode.cal_area\u001B[1;34m(self)\u001B[0m\n\u001B[0;32m     88\u001B[0m \u001B[38;5;28;01mdef\u001B[39;00m \u001B[38;5;21mcal_area\u001B[39m(\u001B[38;5;28mself\u001B[39m):\n\u001B[0;32m     89\u001B[0m     \u001B[38;5;28;01mif\u001B[39;00m \u001B[38;5;28mself\u001B[39m\u001B[38;5;241m.\u001B[39mis_leaf:\n\u001B[1;32m---> 90\u001B[0m         bounds_lst \u001B[38;5;241m=\u001B[39m [bbox[\u001B[38;5;241m0\u001B[39m]\u001B[38;5;241m.\u001B[39mbounds \u001B[38;5;28;01mfor\u001B[39;00m bbox \u001B[38;5;129;01min\u001B[39;00m \u001B[38;5;28mself\u001B[39m\u001B[38;5;241m.\u001B[39mpolygons]\n\u001B[0;32m     91\u001B[0m     \u001B[38;5;28;01melse\u001B[39;00m:\n\u001B[0;32m     92\u001B[0m         bounds_lst \u001B[38;5;241m=\u001B[39m [bbox\u001B[38;5;241m.\u001B[39mbounds \u001B[38;5;28;01mfor\u001B[39;00m bbox \u001B[38;5;129;01min\u001B[39;00m \u001B[38;5;28mself\u001B[39m\u001B[38;5;241m.\u001B[39mchildren]\n",
      "Cell \u001B[1;32mIn[6], line 90\u001B[0m, in \u001B[0;36m<listcomp>\u001B[1;34m(.0)\u001B[0m\n\u001B[0;32m     88\u001B[0m \u001B[38;5;28;01mdef\u001B[39;00m \u001B[38;5;21mcal_area\u001B[39m(\u001B[38;5;28mself\u001B[39m):\n\u001B[0;32m     89\u001B[0m     \u001B[38;5;28;01mif\u001B[39;00m \u001B[38;5;28mself\u001B[39m\u001B[38;5;241m.\u001B[39mis_leaf:\n\u001B[1;32m---> 90\u001B[0m         bounds_lst \u001B[38;5;241m=\u001B[39m [\u001B[43mbbox\u001B[49m\u001B[43m[\u001B[49m\u001B[38;5;241;43m0\u001B[39;49m\u001B[43m]\u001B[49m\u001B[38;5;241;43m.\u001B[39;49m\u001B[43mbounds\u001B[49m \u001B[38;5;28;01mfor\u001B[39;00m bbox \u001B[38;5;129;01min\u001B[39;00m \u001B[38;5;28mself\u001B[39m\u001B[38;5;241m.\u001B[39mpolygons]\n\u001B[0;32m     91\u001B[0m     \u001B[38;5;28;01melse\u001B[39;00m:\n\u001B[0;32m     92\u001B[0m         bounds_lst \u001B[38;5;241m=\u001B[39m [bbox\u001B[38;5;241m.\u001B[39mbounds \u001B[38;5;28;01mfor\u001B[39;00m bbox \u001B[38;5;129;01min\u001B[39;00m \u001B[38;5;28mself\u001B[39m\u001B[38;5;241m.\u001B[39mchildren]\n",
      "File \u001B[1;32m~\\.conda\\envs\\Assignment2_20906987\\lib\\site-packages\\shapely\\geometry\\base.py:475\u001B[0m, in \u001B[0;36mBaseGeometry.bounds\u001B[1;34m(self)\u001B[0m\n\u001B[0;32m    473\u001B[0m     \u001B[38;5;28;01mreturn\u001B[39;00m ()\n\u001B[0;32m    474\u001B[0m \u001B[38;5;28;01melse\u001B[39;00m:\n\u001B[1;32m--> 475\u001B[0m     \u001B[38;5;28;01mreturn\u001B[39;00m \u001B[38;5;28;43mself\u001B[39;49m\u001B[38;5;241;43m.\u001B[39;49m\u001B[43mimpl\u001B[49m\u001B[43m[\u001B[49m\u001B[38;5;124;43m'\u001B[39;49m\u001B[38;5;124;43mbounds\u001B[39;49m\u001B[38;5;124;43m'\u001B[39;49m\u001B[43m]\u001B[49m\u001B[43m(\u001B[49m\u001B[38;5;28;43mself\u001B[39;49m\u001B[43m)\u001B[49m\n",
      "File \u001B[1;32m~\\.conda\\envs\\Assignment2_20906987\\lib\\site-packages\\shapely\\coords.py:187\u001B[0m, in \u001B[0;36mBoundsOp.__call__\u001B[1;34m(self, this)\u001B[0m\n\u001B[0;32m    185\u001B[0m \u001B[38;5;28;01mdef\u001B[39;00m \u001B[38;5;21m__call__\u001B[39m(\u001B[38;5;28mself\u001B[39m, this):\n\u001B[0;32m    186\u001B[0m     \u001B[38;5;28mself\u001B[39m\u001B[38;5;241m.\u001B[39m_validate(this)\n\u001B[1;32m--> 187\u001B[0m     env \u001B[38;5;241m=\u001B[39m \u001B[43mthis\u001B[49m\u001B[38;5;241;43m.\u001B[39;49m\u001B[43menvelope\u001B[49m\n\u001B[0;32m    188\u001B[0m     \u001B[38;5;28;01mif\u001B[39;00m env\u001B[38;5;241m.\u001B[39mgeom_type \u001B[38;5;241m==\u001B[39m \u001B[38;5;124m'\u001B[39m\u001B[38;5;124mPoint\u001B[39m\u001B[38;5;124m'\u001B[39m:\n\u001B[0;32m    189\u001B[0m         \u001B[38;5;28;01mreturn\u001B[39;00m env\u001B[38;5;241m.\u001B[39mbounds\n",
      "File \u001B[1;32m~\\.conda\\envs\\Assignment2_20906987\\lib\\site-packages\\shapely\\geometry\\base.py:500\u001B[0m, in \u001B[0;36mBaseGeometry.envelope\u001B[1;34m(self)\u001B[0m\n\u001B[0;32m    497\u001B[0m \u001B[38;5;129m@property\u001B[39m\n\u001B[0;32m    498\u001B[0m \u001B[38;5;28;01mdef\u001B[39;00m \u001B[38;5;21menvelope\u001B[39m(\u001B[38;5;28mself\u001B[39m):\n\u001B[0;32m    499\u001B[0m     \u001B[38;5;124;03m\"\"\"A figure that envelopes the geometry\"\"\"\u001B[39;00m\n\u001B[1;32m--> 500\u001B[0m     \u001B[38;5;28;01mreturn\u001B[39;00m geom_factory(\u001B[38;5;28;43mself\u001B[39;49m\u001B[38;5;241;43m.\u001B[39;49m\u001B[43mimpl\u001B[49m\u001B[43m[\u001B[49m\u001B[38;5;124;43m'\u001B[39;49m\u001B[38;5;124;43menvelope\u001B[39;49m\u001B[38;5;124;43m'\u001B[39;49m\u001B[43m]\u001B[49m\u001B[43m(\u001B[49m\u001B[38;5;28;43mself\u001B[39;49m\u001B[43m)\u001B[49m)\n",
      "File \u001B[1;32m~\\.conda\\envs\\Assignment2_20906987\\lib\\site-packages\\shapely\\topology.py:80\u001B[0m, in \u001B[0;36mUnaryTopologicalOp.__call__\u001B[1;34m(self, this, *args)\u001B[0m\n\u001B[0;32m     78\u001B[0m \u001B[38;5;28;01mdef\u001B[39;00m \u001B[38;5;21m__call__\u001B[39m(\u001B[38;5;28mself\u001B[39m, this, \u001B[38;5;241m*\u001B[39margs):\n\u001B[0;32m     79\u001B[0m     \u001B[38;5;28mself\u001B[39m\u001B[38;5;241m.\u001B[39m_validate(this)\n\u001B[1;32m---> 80\u001B[0m     \u001B[38;5;28;01mreturn\u001B[39;00m \u001B[38;5;28;43mself\u001B[39;49m\u001B[38;5;241;43m.\u001B[39;49m\u001B[43mfn\u001B[49m\u001B[43m(\u001B[49m\u001B[43mthis\u001B[49m\u001B[38;5;241;43m.\u001B[39;49m\u001B[43m_geom\u001B[49m\u001B[43m,\u001B[49m\u001B[43m \u001B[49m\u001B[38;5;241;43m*\u001B[39;49m\u001B[43margs\u001B[49m\u001B[43m)\u001B[49m\n",
      "\u001B[1;31mKeyboardInterrupt\u001B[0m: "
     ]
    }
   ],
   "source": [
    "#Insert all dataset D into R-Tree with n = 64, d = 8\n",
    "tree_64 = RTreeIndex(8, 64)\n",
    "for i,polygon in enumerate(polygon_list):\n",
    "    tree_64.insert(polygon, i)\n",
    "print(\"Dataset D with n = 64 and d = 8\")\n",
    "print(\"Height of R-tree: {}\".format(tree_64.cal_height()))\n",
    "print(\"Number of leaf Nodes: {}\".format(tree_64.cal_leaf()))\n",
    "print(\"Number of non_leaf nodes: {}\".format(tree_64.cal_non_leaf()))"
   ],
   "metadata": {
    "collapsed": false,
    "ExecuteTime": {
     "start_time": "2023-04-27T02:27:00.225314Z",
     "end_time": "2023-04-27T02:30:32.498560Z"
    }
   }
  },
  {
   "cell_type": "code",
   "execution_count": null,
   "outputs": [],
   "source": [
    "#Insert first-half of dataset D into R-Tree with n = 256, d = 32\n",
    "tree_half_256 = RTreeIndex(32, 256)\n",
    "for i,polygon in enumerate(polygon_list[:len(polygon_list)//2-1]):\n",
    "    tree_half_256.insert(polygon, i)\n",
    "print(\"Half of Dataset D with n = 256 and d = 32\")\n",
    "print(\"Height of R-tree: {}\".format(tree_half_256.cal_height()))\n",
    "print(\"Number of leaf Nodes: {}\".format(tree_half_256.cal_leaf()))\n",
    "print(\"Number of non_leaf nodes: {}\".format(tree_half_256.cal_non_leaf()))"
   ],
   "metadata": {
    "collapsed": false,
    "ExecuteTime": {
     "start_time": "2023-04-27T02:30:32.498560Z",
     "end_time": "2023-04-27T02:37:13.505509Z"
    }
   }
  },
  {
   "cell_type": "code",
   "execution_count": null,
   "outputs": [],
   "source": [
    "#Insert all dataset D into R-Tree with n = 256, d = 32\n",
    "tree_256 = RTreeIndex(32, 256)\n",
    "for i,polygon in enumerate(polygon_list):\n",
    "    tree_256.insert(polygon, i)\n",
    "print(\"Dataset D with n = 256 and d = 32\")\n",
    "print(\"Height of R-tree: {}\".format(tree_256.cal_height()))\n",
    "print(\"Number of leaf Nodes: {}\".format(tree_256.cal_leaf()))\n",
    "print(\"Number of non_leaf nodes: {}\".format(tree_256.cal_non_leaf()))"
   ],
   "metadata": {
    "collapsed": false,
    "ExecuteTime": {
     "start_time": "2023-04-27T02:37:13.508509Z",
     "end_time": "2023-04-27T02:51:09.323563Z"
    }
   }
  },
  {
   "cell_type": "code",
   "execution_count": null,
   "outputs": [],
   "source": [
    "tree_8_256 = RTreeIndex(8, 256)\n",
    "for i,polygon in enumerate(polygon_list):\n",
    "    tree_8_256.insert(polygon, i)\n",
    "time_ex_list = []\n",
    "time_rt_list = []\n",
    "for j in range(0, 30):\n",
    "    x_min = random.uniform(MBR_for_all.x_min,MBR_for_all.x_max)\n",
    "    x_max = random.uniform(x_min,MBR_for_all.x_max)\n",
    "    y_min = random.uniform(MBR_for_all.y_min,MBR_for_all.y_max)\n",
    "    y_max = random.uniform(y_min,MBR_for_all.y_max)\n",
    "    mbr_Q = MBR(x_min, y_min, x_max, y_max)\n",
    "    query_window = Polygon([(x_min, y_min), (x_min, y_max), (x_max, y_min), (x_max, y_max)])\n",
    "    count = 0\n",
    "    # Exhaustive search method\n",
    "    start_time_ex = time.time()\n",
    "    for mbr_list in MBR_result:\n",
    "        if is_contain(mbr_list, mbr_Q):\n",
    "            count += 1\n",
    "    end_time_ex = time.time()\n",
    "    time_ex = end_time_ex - start_time_ex\n",
    "    time_ex_list.append(time_ex)\n",
    "    # R-Tree search method\n",
    "    start_time_rt = time.time()\n",
    "    result = tree_8_256.query(query_window)\n",
    "    end_time_rt = time.time()\n",
    "    time_rt = end_time_rt - start_time_rt\n",
    "    time_rt_list.append(time_rt)\n",
    "    print(\"Query {} Run_time for Exhaustive search method: {}\".format(j + 1,time_ex))\n",
    "    print(\"Query {} Exhaustive search: There are {} objects in Object_Q {}\".format(j + 1, count, j + 1))\n",
    "    print(\"Query {} Run_time for R-Tree search method: {}\".format(j + 1,time_rt))\n",
    "    print(\"Query {} R-Tree search: There are {} objects in Object_Q \".format(j + 1,len(result),j+1))"
   ],
   "metadata": {
    "collapsed": false,
    "ExecuteTime": {
     "start_time": "2023-04-27T02:51:09.315052Z",
     "end_time": "2023-04-27T03:04:36.099600Z"
    }
   }
  },
  {
   "cell_type": "code",
   "execution_count": null,
   "outputs": [],
   "source": [
    "min_time_ex = min(time_ex_list)\n",
    "max_time_ex = max(time_ex_list)\n",
    "\n",
    "avg_time_ex = sum(time_ex_list) / len(time_ex_list)\n",
    "print(\"Minimum time to run Exhaustive search method: {}\".format(min_time_ex))\n",
    "print(\"Maximum time to run Exhaustive search method: {}\".format(max_time_ex))\n",
    "print(\"Average time to run Exhaustive search method: {}\".format(avg_time_ex))"
   ],
   "metadata": {
    "collapsed": false,
    "ExecuteTime": {
     "start_time": "2023-04-27T03:04:36.098599Z",
     "end_time": "2023-04-27T03:04:36.109105Z"
    }
   }
  },
  {
   "cell_type": "code",
   "execution_count": null,
   "outputs": [],
   "source": [
    "min_time_rtree = min(time_rt_list)\n",
    "max_time_rtree = max(time_rt_list)\n",
    "\n",
    "avg_time_rtree = sum(time_rt_list) / len(time_rt_list)\n",
    "print(\"Minimum time to run rtree search method: {}\".format(min_time_rtree))\n",
    "print(\"Maximum time to run rtree search method: {}\".format(max_time_rtree))\n",
    "print(\"Average time to run rtree search method: {}\".format(avg_time_rtree))"
   ],
   "metadata": {
    "collapsed": false,
    "ExecuteTime": {
     "start_time": "2023-04-27T03:04:36.109105Z",
     "end_time": "2023-04-27T03:04:36.403268Z"
    }
   }
  },
  {
   "cell_type": "code",
   "execution_count": null,
   "outputs": [],
   "source": [],
   "metadata": {
    "collapsed": false
   }
  }
 ],
 "metadata": {
  "kernelspec": {
   "display_name": "Python 3",
   "language": "python",
   "name": "python3"
  },
  "language_info": {
   "codemirror_mode": {
    "name": "ipython",
    "version": 2
   },
   "file_extension": ".py",
   "mimetype": "text/x-python",
   "name": "python",
   "nbconvert_exporter": "python",
   "pygments_lexer": "ipython2",
   "version": "2.7.6"
  }
 },
 "nbformat": 4,
 "nbformat_minor": 0
}
